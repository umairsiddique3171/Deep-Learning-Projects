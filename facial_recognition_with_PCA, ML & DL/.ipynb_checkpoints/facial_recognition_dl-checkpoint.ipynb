{
 "cells": [
  {
   "cell_type": "code",
   "execution_count": 1,
   "id": "c840603a",
   "metadata": {},
   "outputs": [],
   "source": [
    "import os \n",
    "import pandas as pd\n",
    "import numpy as np\n",
    "import matplotlib.pyplot as plt\n",
    "import pickle\n",
    "import random\n",
    "from sklearn.model_selection import train_test_split\n",
    "import tensorflow as tf\n",
    "from tensorflow import keras\n",
    "%matplotlib inline"
   ]
  },
  {
   "cell_type": "code",
   "execution_count": 2,
   "id": "16138774",
   "metadata": {},
   "outputs": [],
   "source": [
    "df = pd.read_csv('data.csv')"
   ]
  },
  {
   "cell_type": "code",
   "execution_count": 3,
   "id": "753c4c32",
   "metadata": {},
   "outputs": [
    {
     "data": {
      "text/html": [
       "<div>\n",
       "<style scoped>\n",
       "    .dataframe tbody tr th:only-of-type {\n",
       "        vertical-align: middle;\n",
       "    }\n",
       "\n",
       "    .dataframe tbody tr th {\n",
       "        vertical-align: top;\n",
       "    }\n",
       "\n",
       "    .dataframe thead th {\n",
       "        text-align: right;\n",
       "    }\n",
       "</style>\n",
       "<table border=\"1\" class=\"dataframe\">\n",
       "  <thead>\n",
       "    <tr style=\"text-align: right;\">\n",
       "      <th></th>\n",
       "      <th>0</th>\n",
       "      <th>1</th>\n",
       "      <th>2</th>\n",
       "      <th>3</th>\n",
       "      <th>4</th>\n",
       "      <th>5</th>\n",
       "      <th>6</th>\n",
       "      <th>7</th>\n",
       "      <th>8</th>\n",
       "      <th>9</th>\n",
       "      <th>...</th>\n",
       "      <th>2039</th>\n",
       "      <th>2040</th>\n",
       "      <th>2041</th>\n",
       "      <th>2042</th>\n",
       "      <th>2043</th>\n",
       "      <th>2044</th>\n",
       "      <th>2045</th>\n",
       "      <th>2046</th>\n",
       "      <th>2047</th>\n",
       "      <th>label</th>\n",
       "    </tr>\n",
       "  </thead>\n",
       "  <tbody>\n",
       "    <tr>\n",
       "      <th>0</th>\n",
       "      <td>75.857869</td>\n",
       "      <td>39.355313</td>\n",
       "      <td>12.446199</td>\n",
       "      <td>48.521092</td>\n",
       "      <td>76.708380</td>\n",
       "      <td>116.689707</td>\n",
       "      <td>172.241171</td>\n",
       "      <td>190.335126</td>\n",
       "      <td>189.275727</td>\n",
       "      <td>193.593081</td>\n",
       "      <td>...</td>\n",
       "      <td>228.0</td>\n",
       "      <td>254.0</td>\n",
       "      <td>20.0</td>\n",
       "      <td>1.0</td>\n",
       "      <td>0.0</td>\n",
       "      <td>253.0</td>\n",
       "      <td>1.0</td>\n",
       "      <td>5.0</td>\n",
       "      <td>251.0</td>\n",
       "      <td>0</td>\n",
       "    </tr>\n",
       "    <tr>\n",
       "      <th>1</th>\n",
       "      <td>108.986315</td>\n",
       "      <td>76.130283</td>\n",
       "      <td>71.552523</td>\n",
       "      <td>96.741394</td>\n",
       "      <td>134.743133</td>\n",
       "      <td>177.721123</td>\n",
       "      <td>192.407972</td>\n",
       "      <td>209.790557</td>\n",
       "      <td>215.140828</td>\n",
       "      <td>212.508728</td>\n",
       "      <td>...</td>\n",
       "      <td>211.0</td>\n",
       "      <td>34.0</td>\n",
       "      <td>34.0</td>\n",
       "      <td>211.0</td>\n",
       "      <td>17.0</td>\n",
       "      <td>65.0</td>\n",
       "      <td>64.0</td>\n",
       "      <td>10.0</td>\n",
       "      <td>25.0</td>\n",
       "      <td>0</td>\n",
       "    </tr>\n",
       "    <tr>\n",
       "      <th>2</th>\n",
       "      <td>47.322789</td>\n",
       "      <td>56.577812</td>\n",
       "      <td>58.083601</td>\n",
       "      <td>80.822761</td>\n",
       "      <td>109.154820</td>\n",
       "      <td>132.292485</td>\n",
       "      <td>151.029829</td>\n",
       "      <td>169.915817</td>\n",
       "      <td>171.714724</td>\n",
       "      <td>175.973191</td>\n",
       "      <td>...</td>\n",
       "      <td>35.0</td>\n",
       "      <td>33.0</td>\n",
       "      <td>0.0</td>\n",
       "      <td>0.0</td>\n",
       "      <td>0.0</td>\n",
       "      <td>0.0</td>\n",
       "      <td>1.0</td>\n",
       "      <td>1.0</td>\n",
       "      <td>0.0</td>\n",
       "      <td>0</td>\n",
       "    </tr>\n",
       "    <tr>\n",
       "      <th>3</th>\n",
       "      <td>53.470163</td>\n",
       "      <td>22.849971</td>\n",
       "      <td>26.938194</td>\n",
       "      <td>43.946841</td>\n",
       "      <td>42.827509</td>\n",
       "      <td>58.186759</td>\n",
       "      <td>81.299248</td>\n",
       "      <td>78.942837</td>\n",
       "      <td>88.754521</td>\n",
       "      <td>95.357442</td>\n",
       "      <td>...</td>\n",
       "      <td>190.0</td>\n",
       "      <td>55.0</td>\n",
       "      <td>61.0</td>\n",
       "      <td>21.0</td>\n",
       "      <td>27.0</td>\n",
       "      <td>194.0</td>\n",
       "      <td>228.0</td>\n",
       "      <td>72.0</td>\n",
       "      <td>0.0</td>\n",
       "      <td>0</td>\n",
       "    </tr>\n",
       "    <tr>\n",
       "      <th>4</th>\n",
       "      <td>20.134835</td>\n",
       "      <td>31.233098</td>\n",
       "      <td>49.724754</td>\n",
       "      <td>55.012206</td>\n",
       "      <td>55.027556</td>\n",
       "      <td>44.086222</td>\n",
       "      <td>56.072698</td>\n",
       "      <td>95.572997</td>\n",
       "      <td>84.811791</td>\n",
       "      <td>121.987502</td>\n",
       "      <td>...</td>\n",
       "      <td>242.0</td>\n",
       "      <td>5.0</td>\n",
       "      <td>251.0</td>\n",
       "      <td>6.0</td>\n",
       "      <td>228.0</td>\n",
       "      <td>251.0</td>\n",
       "      <td>4.0</td>\n",
       "      <td>244.0</td>\n",
       "      <td>1.0</td>\n",
       "      <td>0</td>\n",
       "    </tr>\n",
       "  </tbody>\n",
       "</table>\n",
       "<p>5 rows × 2049 columns</p>\n",
       "</div>"
      ],
      "text/plain": [
       "            0          1          2          3           4           5  \\\n",
       "0   75.857869  39.355313  12.446199  48.521092   76.708380  116.689707   \n",
       "1  108.986315  76.130283  71.552523  96.741394  134.743133  177.721123   \n",
       "2   47.322789  56.577812  58.083601  80.822761  109.154820  132.292485   \n",
       "3   53.470163  22.849971  26.938194  43.946841   42.827509   58.186759   \n",
       "4   20.134835  31.233098  49.724754  55.012206   55.027556   44.086222   \n",
       "\n",
       "            6           7           8           9  ...   2039   2040   2041  \\\n",
       "0  172.241171  190.335126  189.275727  193.593081  ...  228.0  254.0   20.0   \n",
       "1  192.407972  209.790557  215.140828  212.508728  ...  211.0   34.0   34.0   \n",
       "2  151.029829  169.915817  171.714724  175.973191  ...   35.0   33.0    0.0   \n",
       "3   81.299248   78.942837   88.754521   95.357442  ...  190.0   55.0   61.0   \n",
       "4   56.072698   95.572997   84.811791  121.987502  ...  242.0    5.0  251.0   \n",
       "\n",
       "    2042   2043   2044   2045   2046   2047  label  \n",
       "0    1.0    0.0  253.0    1.0    5.0  251.0      0  \n",
       "1  211.0   17.0   65.0   64.0   10.0   25.0      0  \n",
       "2    0.0    0.0    0.0    1.0    1.0    0.0      0  \n",
       "3   21.0   27.0  194.0  228.0   72.0    0.0      0  \n",
       "4    6.0  228.0  251.0    4.0  244.0    1.0      0  \n",
       "\n",
       "[5 rows x 2049 columns]"
      ]
     },
     "execution_count": 3,
     "metadata": {},
     "output_type": "execute_result"
    }
   ],
   "source": [
    "df.head()"
   ]
  },
  {
   "cell_type": "code",
   "execution_count": 4,
   "id": "a45576c4",
   "metadata": {},
   "outputs": [
    {
     "data": {
      "text/plain": [
       "(188, 2049)"
      ]
     },
     "execution_count": 4,
     "metadata": {},
     "output_type": "execute_result"
    }
   ],
   "source": [
    "df.shape"
   ]
  },
  {
   "cell_type": "code",
   "execution_count": 5,
   "id": "bcc7c090",
   "metadata": {},
   "outputs": [],
   "source": [
    "x = df.drop('label',axis = 1).values\n",
    "y = df['label'].values"
   ]
  },
  {
   "cell_type": "code",
   "execution_count": 6,
   "id": "79d2ba46",
   "metadata": {},
   "outputs": [
    {
     "data": {
      "text/plain": [
       "(188, 2048)"
      ]
     },
     "execution_count": 6,
     "metadata": {},
     "output_type": "execute_result"
    }
   ],
   "source": [
    "x.shape"
   ]
  },
  {
   "cell_type": "code",
   "execution_count": 7,
   "id": "c6841266",
   "metadata": {},
   "outputs": [
    {
     "data": {
      "text/plain": [
       "(188,)"
      ]
     },
     "execution_count": 7,
     "metadata": {},
     "output_type": "execute_result"
    }
   ],
   "source": [
    "y.shape"
   ]
  },
  {
   "cell_type": "code",
   "execution_count": 8,
   "id": "fb0ea9c3",
   "metadata": {},
   "outputs": [],
   "source": [
    "xtrain,xtest,ytrain,ytest = train_test_split(x,y,test_size = 0.2,stratify= y, random_state = 33)"
   ]
  },
  {
   "cell_type": "code",
   "execution_count": 9,
   "id": "1bdccff3",
   "metadata": {},
   "outputs": [],
   "source": [
    "from sklearn.preprocessing import MinMaxScaler\n",
    "scalar = MinMaxScaler()\n",
    "xtrain1 = scalar.fit_transform(xtrain)\n",
    "xtest1 = scalar.fit_transform(xtest)"
   ]
  },
  {
   "cell_type": "code",
   "execution_count": 10,
   "id": "159756c2",
   "metadata": {},
   "outputs": [
    {
     "data": {
      "text/plain": [
       "array([0, 1, 2, 3, 4], dtype=int64)"
      ]
     },
     "execution_count": 10,
     "metadata": {},
     "output_type": "execute_result"
    }
   ],
   "source": [
    "np.unique(ytrain)"
   ]
  },
  {
   "cell_type": "code",
   "execution_count": 11,
   "id": "2906218e",
   "metadata": {},
   "outputs": [],
   "source": [
    "model = keras.Sequential([\n",
    "    keras.layers.Reshape((32, 32, 2), input_shape=(2048,)),\n",
    "    keras.layers.Conv2D(32, (3, 3), activation='relu'),\n",
    "    keras.layers.MaxPooling2D((2, 2)),\n",
    "    keras.layers.Conv2D(64, (3, 3), activation='relu'),\n",
    "    keras.layers.MaxPooling2D((2, 2)),\n",
    "    keras.layers.Conv2D(64, (3, 3), activation='relu'),\n",
    "    keras.layers.Flatten(),\n",
    "    keras.layers.Dense(64, activation='relu'),\n",
    "    keras.layers.Dense(5, activation='softmax')\n",
    "                        ])"
   ]
  },
  {
   "cell_type": "code",
   "execution_count": 12,
   "id": "0fdc2937",
   "metadata": {},
   "outputs": [],
   "source": [
    "model.compile(\n",
    "    optimizer = 'adam',\n",
    "    loss = 'sparse_categorical_crossentropy',\n",
    "    metrics = ['accuracy']\n",
    "             )"
   ]
  },
  {
   "cell_type": "code",
   "execution_count": 13,
   "id": "3481bea7",
   "metadata": {},
   "outputs": [
    {
     "name": "stdout",
     "output_type": "stream",
     "text": [
      "Epoch 1/20\n",
      "5/5 [==============================] - 8s 52ms/step - loss: 1.5924 - accuracy: 0.2733\n",
      "Epoch 2/20\n",
      "5/5 [==============================] - 0s 9ms/step - loss: 1.5625 - accuracy: 0.3000\n",
      "Epoch 3/20\n",
      "5/5 [==============================] - 0s 8ms/step - loss: 1.5348 - accuracy: 0.3000\n",
      "Epoch 4/20\n",
      "5/5 [==============================] - 0s 8ms/step - loss: 1.5056 - accuracy: 0.3067\n",
      "Epoch 5/20\n",
      "5/5 [==============================] - 0s 8ms/step - loss: 1.4790 - accuracy: 0.3600\n",
      "Epoch 6/20\n",
      "5/5 [==============================] - 0s 10ms/step - loss: 1.4191 - accuracy: 0.4000\n",
      "Epoch 7/20\n",
      "5/5 [==============================] - 0s 7ms/step - loss: 1.3406 - accuracy: 0.5133\n",
      "Epoch 8/20\n",
      "5/5 [==============================] - 0s 7ms/step - loss: 1.2948 - accuracy: 0.4467\n",
      "Epoch 9/20\n",
      "5/5 [==============================] - 0s 10ms/step - loss: 1.2004 - accuracy: 0.6333\n",
      "Epoch 10/20\n",
      "5/5 [==============================] - 0s 8ms/step - loss: 1.1055 - accuracy: 0.5200\n",
      "Epoch 11/20\n",
      "5/5 [==============================] - 0s 7ms/step - loss: 0.9920 - accuracy: 0.6133\n",
      "Epoch 12/20\n",
      "5/5 [==============================] - 0s 7ms/step - loss: 0.8810 - accuracy: 0.7400\n",
      "Epoch 13/20\n",
      "5/5 [==============================] - 0s 10ms/step - loss: 0.7926 - accuracy: 0.7467\n",
      "Epoch 14/20\n",
      "5/5 [==============================] - 0s 7ms/step - loss: 0.7856 - accuracy: 0.7067\n",
      "Epoch 15/20\n",
      "5/5 [==============================] - 0s 7ms/step - loss: 0.7650 - accuracy: 0.7133\n",
      "Epoch 16/20\n",
      "5/5 [==============================] - 0s 7ms/step - loss: 0.6430 - accuracy: 0.8533\n",
      "Epoch 17/20\n",
      "5/5 [==============================] - 0s 8ms/step - loss: 0.5261 - accuracy: 0.9000\n",
      "Epoch 18/20\n",
      "5/5 [==============================] - 0s 8ms/step - loss: 0.4764 - accuracy: 0.8467\n",
      "Epoch 19/20\n",
      "5/5 [==============================] - 0s 7ms/step - loss: 0.3725 - accuracy: 0.9333\n",
      "Epoch 20/20\n",
      "5/5 [==============================] - 0s 8ms/step - loss: 0.3066 - accuracy: 0.9667\n"
     ]
    }
   ],
   "source": [
    "history = model.fit(xtrain1,ytrain,epochs = 20)"
   ]
  },
  {
   "cell_type": "code",
   "execution_count": 14,
   "id": "90e5ed2f",
   "metadata": {},
   "outputs": [
    {
     "data": {
      "text/plain": [
       "dict_keys(['loss', 'accuracy'])"
      ]
     },
     "execution_count": 14,
     "metadata": {},
     "output_type": "execute_result"
    }
   ],
   "source": [
    "history.history.keys()"
   ]
  },
  {
   "cell_type": "code",
   "execution_count": 17,
   "id": "f7d04d7e",
   "metadata": {},
   "outputs": [
    {
     "data": {
      "image/png": "[encoded data removed]",
      "text/plain": [
       "<Figure size 640x480 with 1 Axes>"
      ]
     },
     "metadata": {},
     "output_type": "display_data"
    }
   ],
   "source": [
    "plt.plot(history.history['loss'])\n",
    "plt.title('Model_Loss')\n",
    "plt.ylabel('loss')\n",
    "plt.xlabel('epochs')\n",
    "plt.show()"
   ]
  },
  {
   "cell_type": "code",
   "execution_count": 18,
   "id": "45e0a76b",
   "metadata": {},
   "outputs": [
    {
     "data": {
      "image/png": "[encoded data removed]",
      "text/plain": [
       "<Figure size 640x480 with 1 Axes>"
      ]
     },
     "metadata": {},
     "output_type": "display_data"
    }
   ],
   "source": [
    "plt.plot(history.history['accuracy'])\n",
    "plt.title('Model_Accuracy')\n",
    "plt.ylabel('accuracy')\n",
    "plt.xlabel('epochs')\n",
    "plt.show()"
   ]
  },
  {
   "cell_type": "code",
   "execution_count": 20,
   "id": "ca2f3ba8",
   "metadata": {},
   "outputs": [
    {
     "name": "stdout",
     "output_type": "stream",
     "text": [
      "2/2 [==============================] - 1s 269ms/step - loss: 1.5364 - accuracy: 0.4211\n"
     ]
    },
    {
     "data": {
      "text/plain": [
       "[1.5364296436309814, 0.42105263471603394]"
      ]
     },
     "execution_count": 20,
     "metadata": {},
     "output_type": "execute_result"
    }
   ],
   "source": [
    "model.evaluate(xtest1,ytest)"
   ]
  },
  {
   "cell_type": "code",
   "execution_count": null,
   "id": "5f291ad7",
   "metadata": {},
   "outputs": [],
   "source": []
  },
  {
   "cell_type": "markdown",
   "id": "2fc5834a",
   "metadata": {},
   "source": [
    "model accuracy is low because of limited data...we can increase this accuracy and reduce overfitting by adding dropout layers"
   ]
  }
 ],
 "metadata": {
  "kernelspec": {
   "display_name": "python 3.9 (tf)",
   "language": "python",
   "name": "tensorflow"
  },
  "language_info": {
   "codemirror_mode": {
    "name": "ipython",
    "version": 3
   },
   "file_extension": ".py",
   "mimetype": "text/x-python",
   "name": "python",
   "nbconvert_exporter": "python",
   "pygments_lexer": "ipython3",
   "version": "3.9.18"
  }
 },
 "nbformat": 4,
 "nbformat_minor": 5
}
