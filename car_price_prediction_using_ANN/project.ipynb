{
 "cells": [
  {
   "cell_type": "code",
   "execution_count": 1,
   "id": "f1de6e16",
   "metadata": {},
   "outputs": [],
   "source": [
    "# data\n",
    "# modeling\n",
    "# error measurement\n",
    "# training and optimization\n",
    "# perfomance measurement\n",
    "# validation and testing\n",
    "# corrective measures"
   ]
  },
  {
   "cell_type": "code",
   "execution_count": 2,
   "id": "86f81c26",
   "metadata": {},
   "outputs": [],
   "source": [
    "import tensorflow as tf\n",
    "import pandas as pd\n",
    "import seaborn as sns\n",
    "import matplotlib.pyplot as plt\n",
    "import numpy as np\n",
    "from tensorflow.keras.layers import Normalization,Dense,InputLayer\n",
    "from tensorflow.keras.losses import MeanSquaredError,MeanAbsoluteError\n",
    "from tensorflow.keras.metrics import RootMeanSquaredError\n",
    "from tensorflow.keras.optimizers import Adam"
   ]
  },
  {
   "cell_type": "code",
   "execution_count": 3,
   "id": "13774941",
   "metadata": {},
   "outputs": [
    {
     "name": "stdout",
     "output_type": "stream",
     "text": [
      "True\n"
     ]
    }
   ],
   "source": [
    "print(len(tf.config.list_physical_devices('GPU'))>0)"
   ]
  },
  {
   "cell_type": "code",
   "execution_count": 4,
   "id": "d1e05cdb",
   "metadata": {},
   "outputs": [
    {
     "name": "stdout",
     "output_type": "stream",
     "text": [
      "GPU's Available:  1\n"
     ]
    }
   ],
   "source": [
    "print(\"GPU's Available: \", len(tf.config.experimental.list_physical_devices(\"GPU\")))"
   ]
  },
  {
   "cell_type": "code",
   "execution_count": 5,
   "id": "f57ff372",
   "metadata": {},
   "outputs": [
    {
     "data": {
      "text/plain": [
       "True"
      ]
     },
     "execution_count": 5,
     "metadata": {},
     "output_type": "execute_result"
    }
   ],
   "source": [
    "tf.test.is_built_with_cuda()"
   ]
  },
  {
   "cell_type": "code",
   "execution_count": 6,
   "id": "bd7137dc",
   "metadata": {},
   "outputs": [
    {
     "name": "stdout",
     "output_type": "stream",
     "text": [
      "0.13.0\n"
     ]
    }
   ],
   "source": [
    "print(sns.__version__)"
   ]
  },
  {
   "cell_type": "code",
   "execution_count": 7,
   "id": "ec07e292",
   "metadata": {},
   "outputs": [],
   "source": [
    "data = pd.read_csv('train.csv')"
   ]
  },
  {
   "cell_type": "code",
   "execution_count": 8,
   "id": "44214374",
   "metadata": {},
   "outputs": [
    {
     "data": {
      "text/plain": [
       "(1000, 12)"
      ]
     },
     "execution_count": 8,
     "metadata": {},
     "output_type": "execute_result"
    }
   ],
   "source": [
    "data.shape"
   ]
  },
  {
   "cell_type": "code",
   "execution_count": 9,
   "id": "4fed594a",
   "metadata": {},
   "outputs": [
    {
     "data": {
      "text/html": [
       "<div>\n",
       "<style scoped>\n",
       "    .dataframe tbody tr th:only-of-type {\n",
       "        vertical-align: middle;\n",
       "    }\n",
       "\n",
       "    .dataframe tbody tr th {\n",
       "        vertical-align: top;\n",
       "    }\n",
       "\n",
       "    .dataframe thead th {\n",
       "        text-align: right;\n",
       "    }\n",
       "</style>\n",
       "<table border=\"1\" class=\"dataframe\">\n",
       "  <thead>\n",
       "    <tr style=\"text-align: right;\">\n",
       "      <th></th>\n",
       "      <th>v.id</th>\n",
       "      <th>on road old</th>\n",
       "      <th>on road now</th>\n",
       "      <th>years</th>\n",
       "      <th>km</th>\n",
       "      <th>rating</th>\n",
       "      <th>condition</th>\n",
       "      <th>economy</th>\n",
       "      <th>top speed</th>\n",
       "      <th>hp</th>\n",
       "      <th>torque</th>\n",
       "      <th>current price</th>\n",
       "    </tr>\n",
       "  </thead>\n",
       "  <tbody>\n",
       "    <tr>\n",
       "      <th>0</th>\n",
       "      <td>1</td>\n",
       "      <td>535651</td>\n",
       "      <td>798186</td>\n",
       "      <td>3</td>\n",
       "      <td>78945</td>\n",
       "      <td>1</td>\n",
       "      <td>2</td>\n",
       "      <td>14</td>\n",
       "      <td>177</td>\n",
       "      <td>73</td>\n",
       "      <td>123</td>\n",
       "      <td>351318.0</td>\n",
       "    </tr>\n",
       "    <tr>\n",
       "      <th>1</th>\n",
       "      <td>2</td>\n",
       "      <td>591911</td>\n",
       "      <td>861056</td>\n",
       "      <td>6</td>\n",
       "      <td>117220</td>\n",
       "      <td>5</td>\n",
       "      <td>9</td>\n",
       "      <td>9</td>\n",
       "      <td>148</td>\n",
       "      <td>74</td>\n",
       "      <td>95</td>\n",
       "      <td>285001.5</td>\n",
       "    </tr>\n",
       "    <tr>\n",
       "      <th>2</th>\n",
       "      <td>3</td>\n",
       "      <td>686990</td>\n",
       "      <td>770762</td>\n",
       "      <td>2</td>\n",
       "      <td>132538</td>\n",
       "      <td>2</td>\n",
       "      <td>8</td>\n",
       "      <td>15</td>\n",
       "      <td>181</td>\n",
       "      <td>53</td>\n",
       "      <td>97</td>\n",
       "      <td>215386.0</td>\n",
       "    </tr>\n",
       "    <tr>\n",
       "      <th>3</th>\n",
       "      <td>4</td>\n",
       "      <td>573999</td>\n",
       "      <td>722381</td>\n",
       "      <td>4</td>\n",
       "      <td>101065</td>\n",
       "      <td>4</td>\n",
       "      <td>3</td>\n",
       "      <td>11</td>\n",
       "      <td>197</td>\n",
       "      <td>54</td>\n",
       "      <td>116</td>\n",
       "      <td>244295.5</td>\n",
       "    </tr>\n",
       "    <tr>\n",
       "      <th>4</th>\n",
       "      <td>5</td>\n",
       "      <td>691388</td>\n",
       "      <td>811335</td>\n",
       "      <td>6</td>\n",
       "      <td>61559</td>\n",
       "      <td>3</td>\n",
       "      <td>9</td>\n",
       "      <td>12</td>\n",
       "      <td>160</td>\n",
       "      <td>53</td>\n",
       "      <td>105</td>\n",
       "      <td>531114.5</td>\n",
       "    </tr>\n",
       "  </tbody>\n",
       "</table>\n",
       "</div>"
      ],
      "text/plain": [
       "   v.id  on road old  on road now  years      km  rating  condition  economy  \\\n",
       "0     1       535651       798186      3   78945       1          2       14   \n",
       "1     2       591911       861056      6  117220       5          9        9   \n",
       "2     3       686990       770762      2  132538       2          8       15   \n",
       "3     4       573999       722381      4  101065       4          3       11   \n",
       "4     5       691388       811335      6   61559       3          9       12   \n",
       "\n",
       "   top speed  hp  torque  current price  \n",
       "0        177  73     123       351318.0  \n",
       "1        148  74      95       285001.5  \n",
       "2        181  53      97       215386.0  \n",
       "3        197  54     116       244295.5  \n",
       "4        160  53     105       531114.5  "
      ]
     },
     "execution_count": 9,
     "metadata": {},
     "output_type": "execute_result"
    }
   ],
   "source": [
    "data.head()"
   ]
  },
  {
   "cell_type": "code",
   "execution_count": 10,
   "id": "58a06c02",
   "metadata": {},
   "outputs": [],
   "source": [
    "# sns.pairplot(data)"
   ]
  },
  {
   "cell_type": "code",
   "execution_count": 11,
   "id": "45d911cd",
   "metadata": {},
   "outputs": [],
   "source": [
    "tensor_data = tf.constant(data)"
   ]
  },
  {
   "cell_type": "code",
   "execution_count": 12,
   "id": "ccd78f59",
   "metadata": {},
   "outputs": [
    {
     "name": "stdout",
     "output_type": "stream",
     "text": [
      "(1000, 12)\n"
     ]
    }
   ],
   "source": [
    "print(tensor_data.shape)"
   ]
  },
  {
   "cell_type": "code",
   "execution_count": 13,
   "id": "fdca7c32",
   "metadata": {},
   "outputs": [],
   "source": [
    "tensor_data = tf.cast(tensor_data,tf.float64)"
   ]
  },
  {
   "cell_type": "code",
   "execution_count": 14,
   "id": "cf8c6683",
   "metadata": {},
   "outputs": [
    {
     "name": "stdout",
     "output_type": "stream",
     "text": [
      "tf.Tensor(\n",
      "[[1.000000e+00 5.356510e+05 7.981860e+05 ... 7.300000e+01 1.230000e+02\n",
      "  3.513180e+05]\n",
      " [2.000000e+00 5.919110e+05 8.610560e+05 ... 7.400000e+01 9.500000e+01\n",
      "  2.850015e+05]\n",
      " [3.000000e+00 6.869900e+05 7.707620e+05 ... 5.300000e+01 9.700000e+01\n",
      "  2.153860e+05]\n",
      " ...\n",
      " [9.980000e+02 6.463440e+05 8.427330e+05 ... 1.130000e+02 8.900000e+01\n",
      "  4.058710e+05]\n",
      " [9.990000e+02 5.355590e+05 7.324390e+05 ... 1.120000e+02 1.280000e+02\n",
      "  7.439800e+04]\n",
      " [1.000000e+03 5.901050e+05 7.797430e+05 ... 9.900000e+01 9.600000e+01\n",
      "  4.149385e+05]], shape=(1000, 12), dtype=float64)\n"
     ]
    }
   ],
   "source": [
    "print(tensor_data)"
   ]
  },
  {
   "cell_type": "code",
   "execution_count": 15,
   "id": "c6912b90",
   "metadata": {},
   "outputs": [],
   "source": [
    "tensor_data = tf.random.shuffle(tensor_data)"
   ]
  },
  {
   "cell_type": "code",
   "execution_count": 16,
   "id": "83b56e73",
   "metadata": {},
   "outputs": [
    {
     "data": {
      "text/plain": [
       "<tf.Tensor: shape=(1000, 12), dtype=float64, numpy=\n",
       "array([[8.670000e+02, 6.322920e+05, 7.948660e+05, ..., 6.600000e+01,\n",
       "        1.200000e+02, 2.392140e+05],\n",
       "       [6.800000e+01, 5.918340e+05, 7.657510e+05, ..., 8.100000e+01,\n",
       "        9.500000e+01, 3.004995e+05],\n",
       "       [5.970000e+02, 5.850690e+05, 8.726440e+05, ..., 7.000000e+01,\n",
       "        1.370000e+02, 3.055890e+05],\n",
       "       ...,\n",
       "       [7.500000e+01, 5.720940e+05, 7.145210e+05, ..., 1.050000e+02,\n",
       "        9.000000e+01, 1.248475e+05],\n",
       "       [3.200000e+02, 5.203070e+05, 8.584440e+05, ..., 6.200000e+01,\n",
       "        1.350000e+02, 1.840925e+05],\n",
       "       [2.520000e+02, 5.687020e+05, 8.498650e+05, ..., 9.900000e+01,\n",
       "        1.160000e+02, 2.084680e+05]])>"
      ]
     },
     "execution_count": 16,
     "metadata": {},
     "output_type": "execute_result"
    }
   ],
   "source": [
    "tensor_data"
   ]
  },
  {
   "cell_type": "code",
   "execution_count": 17,
   "id": "d63f2d41",
   "metadata": {},
   "outputs": [],
   "source": [
    "x = tensor_data[:,3:-1]\n",
    "y = tensor_data[:,-1]"
   ]
  },
  {
   "cell_type": "code",
   "execution_count": 18,
   "id": "fc2f71d8",
   "metadata": {},
   "outputs": [
    {
     "data": {
      "text/plain": [
       "TensorShape([1000, 8])"
      ]
     },
     "execution_count": 18,
     "metadata": {},
     "output_type": "execute_result"
    }
   ],
   "source": [
    "x.shape"
   ]
  },
  {
   "cell_type": "code",
   "execution_count": 19,
   "id": "197031cc",
   "metadata": {},
   "outputs": [
    {
     "data": {
      "text/plain": [
       "TensorShape([1000])"
      ]
     },
     "execution_count": 19,
     "metadata": {},
     "output_type": "execute_result"
    }
   ],
   "source": [
    "y.shape"
   ]
  },
  {
   "cell_type": "code",
   "execution_count": 20,
   "id": "019ad4af",
   "metadata": {},
   "outputs": [
    {
     "data": {
      "text/plain": [
       "<tf.Tensor: shape=(5, 8), dtype=float64, numpy=\n",
       "array([[7.00000e+00, 1.18659e+05, 2.00000e+00, 7.00000e+00, 1.20000e+01,\n",
       "        1.80000e+02, 6.60000e+01, 1.20000e+02],\n",
       "       [5.00000e+00, 9.43650e+04, 1.00000e+00, 4.00000e+00, 8.00000e+00,\n",
       "        1.94000e+02, 8.10000e+01, 9.50000e+01],\n",
       "       [6.00000e+00, 1.04912e+05, 2.00000e+00, 1.00000e+00, 1.10000e+01,\n",
       "        1.76000e+02, 7.00000e+01, 1.37000e+02],\n",
       "       [7.00000e+00, 7.72700e+04, 2.00000e+00, 4.00000e+00, 1.20000e+01,\n",
       "        1.45000e+02, 7.70000e+01, 1.31000e+02],\n",
       "       [3.00000e+00, 7.63630e+04, 4.00000e+00, 8.00000e+00, 8.00000e+00,\n",
       "        1.52000e+02, 1.15000e+02, 8.40000e+01]])>"
      ]
     },
     "execution_count": 20,
     "metadata": {},
     "output_type": "execute_result"
    }
   ],
   "source": [
    "x[:5]"
   ]
  },
  {
   "cell_type": "code",
   "execution_count": 21,
   "id": "310d203d",
   "metadata": {},
   "outputs": [
    {
     "data": {
      "text/plain": [
       "<tf.Tensor: shape=(5,), dtype=float64, numpy=array([239214. , 300499.5, 305589. , 315959. , 503606.5])>"
      ]
     },
     "execution_count": 21,
     "metadata": {},
     "output_type": "execute_result"
    }
   ],
   "source": [
    "y[:5]"
   ]
  },
  {
   "cell_type": "code",
   "execution_count": 22,
   "id": "9ded7ff2",
   "metadata": {},
   "outputs": [],
   "source": [
    "y1 = tf.expand_dims(y,axis = -1) # making y to 2 dimensional # here you can also use axis = 1\n",
    "# axis = -1 means the last dimension of the data "
   ]
  },
  {
   "cell_type": "code",
   "execution_count": 23,
   "id": "790d1e71",
   "metadata": {},
   "outputs": [
    {
     "data": {
      "text/plain": [
       "<tf.Tensor: shape=(5, 1), dtype=float64, numpy=\n",
       "array([[239214. ],\n",
       "       [300499.5],\n",
       "       [305589. ],\n",
       "       [315959. ],\n",
       "       [503606.5]])>"
      ]
     },
     "execution_count": 23,
     "metadata": {},
     "output_type": "execute_result"
    }
   ],
   "source": [
    "y1[:5]"
   ]
  },
  {
   "cell_type": "code",
   "execution_count": 24,
   "id": "aa8a9c5e",
   "metadata": {},
   "outputs": [],
   "source": [
    "# Normalization -> feature scaling\n",
    "# This normalization basically is feature scaling that standardize the data\n",
    "# (x-mean)/s.d to each point to attain the maximum values between -1 and 1"
   ]
  },
  {
   "cell_type": "code",
   "execution_count": 25,
   "id": "5371dfa5",
   "metadata": {},
   "outputs": [],
   "source": [
    "train_ratio = 0.8\n",
    "validation_ratio = 0.1\n",
    "test_ratio = 0.1\n",
    "dataset_size = len(x)"
   ]
  },
  {
   "cell_type": "code",
   "execution_count": 26,
   "id": "c2c04926",
   "metadata": {},
   "outputs": [
    {
     "name": "stdout",
     "output_type": "stream",
     "text": [
      "(800, 8)\n",
      "(800,)\n"
     ]
    }
   ],
   "source": [
    "x_train = x[:int(dataset_size*train_ratio)]\n",
    "y_train = y[:int(dataset_size*train_ratio)]\n",
    "print(x_train.shape)\n",
    "print(y_train.shape)"
   ]
  },
  {
   "cell_type": "markdown",
   "id": "9f82029d",
   "metadata": {},
   "source": [
    "### tensorflow data api"
   ]
  },
  {
   "cell_type": "markdown",
   "id": "403e8e49",
   "metadata": {},
   "source": [
    "The tf.data.Dataset API supports writing descriptive and efficient input pipelines.We can use tensorflow data api to load data into model even more faster and efficiently. This api is used when you have huge data. Rather than preprocessing and appling transformation on whole dataset. This api create batches allowing you to apply data preprocessing on succeeding batches while you train your model on prior batches. Thus making your model time efficient. For Example, here you used normalizer to do data preprocessing (i.e. here scaling the data to standardization). So if you had dataset containing millions or billions of examples so to attain computational efficiency you could use this api as a pipeline which would send a single batch for training while preprocessing the next batch. Thus succeedingly doing that till all the batches would have trained. If you didn't used this api then your model would have normalized all the data before training thus taking all the time required for preprocessing and training."
   ]
  },
  {
   "cell_type": "code",
   "execution_count": 27,
   "id": "2b2517e1",
   "metadata": {},
   "outputs": [],
   "source": [
    "train_dataset = tf.data.Dataset.from_tensor_slices((x_train,y_train))\n",
    "train_dataset = train_dataset.shuffle(buffer_size = 8, reshuffle_each_iteration = True).batch(32).prefetch(tf.data.AUTOTUNE)\n",
    "# prefetch allows later elements to be prepared while the current element is being processed. \n",
    "# this mean while model is training on prior batch next batch will preprocess meanwhile"
   ]
  },
  {
   "cell_type": "code",
   "execution_count": 28,
   "id": "7b7b4557",
   "metadata": {},
   "outputs": [
    {
     "data": {
      "text/plain": [
       "<PrefetchDataset element_spec=(TensorSpec(shape=(None, 8), dtype=tf.float64, name=None), TensorSpec(shape=(None,), dtype=tf.float64, name=None))>"
      ]
     },
     "execution_count": 28,
     "metadata": {},
     "output_type": "execute_result"
    }
   ],
   "source": [
    "train_dataset"
   ]
  },
  {
   "cell_type": "code",
   "execution_count": 29,
   "id": "e9df9cbd",
   "metadata": {},
   "outputs": [
    {
     "data": {
      "text/plain": [
       "tensorflow.python.data.ops.dataset_ops.PrefetchDataset"
      ]
     },
     "execution_count": 29,
     "metadata": {},
     "output_type": "execute_result"
    }
   ],
   "source": [
    "type(train_dataset)"
   ]
  },
  {
   "cell_type": "code",
   "execution_count": 30,
   "id": "1f4bff9e",
   "metadata": {},
   "outputs": [
    {
     "name": "stdout",
     "output_type": "stream",
     "text": [
      "(32, 8)\n",
      "(32,)\n"
     ]
    }
   ],
   "source": [
    "for a,b in train_dataset:\n",
    "    print(a.shape)\n",
    "    print(b.shape)\n",
    "    break"
   ]
  },
  {
   "cell_type": "code",
   "execution_count": 31,
   "id": "e4e9fbfc",
   "metadata": {},
   "outputs": [
    {
     "data": {
      "text/plain": [
       "tensorflow.python.data.ops.dataset_ops.PrefetchDataset"
      ]
     },
     "execution_count": 31,
     "metadata": {},
     "output_type": "execute_result"
    }
   ],
   "source": [
    "type(train_dataset)"
   ]
  },
  {
   "cell_type": "code",
   "execution_count": 32,
   "id": "f32450fa",
   "metadata": {},
   "outputs": [
    {
     "name": "stdout",
     "output_type": "stream",
     "text": [
      "(100, 8)\n",
      "(100,)\n"
     ]
    }
   ],
   "source": [
    "x_val = x[int(dataset_size*train_ratio):int(dataset_size*(train_ratio+validation_ratio))]\n",
    "y_val = y[int(dataset_size*train_ratio):int(dataset_size*(train_ratio+validation_ratio))]\n",
    "print(x_val.shape)\n",
    "print(y_val.shape)"
   ]
  },
  {
   "cell_type": "code",
   "execution_count": 33,
   "id": "e3db5b04",
   "metadata": {},
   "outputs": [],
   "source": [
    "val_dataset = tf.data.Dataset.from_tensor_slices((x_val,y_val))\n",
    "val_dataset = train_dataset.shuffle(buffer_size = 8, reshuffle_each_iteration = True).batch(32).prefetch(tf.data.AUTOTUNE)"
   ]
  },
  {
   "cell_type": "code",
   "execution_count": 34,
   "id": "bc872bd9",
   "metadata": {},
   "outputs": [
    {
     "name": "stdout",
     "output_type": "stream",
     "text": [
      "(100, 8)\n",
      "(100,)\n"
     ]
    }
   ],
   "source": [
    "x_test = x[int(dataset_size*(train_ratio+validation_ratio)):]\n",
    "y_test = y[int(dataset_size*(train_ratio+validation_ratio)):]\n",
    "print(x_test.shape)\n",
    "print(y_test.shape)"
   ]
  },
  {
   "cell_type": "code",
   "execution_count": 35,
   "id": "3e3f24c7",
   "metadata": {},
   "outputs": [],
   "source": [
    "test_dataset = tf.data.Dataset.from_tensor_slices((x_test,y_test))\n",
    "test_dataset = train_dataset.shuffle(buffer_size = 8, reshuffle_each_iteration = True).batch(32).prefetch(tf.data.AUTOTUNE)"
   ]
  },
  {
   "cell_type": "code",
   "execution_count": 36,
   "id": "c0a4c5c4",
   "metadata": {},
   "outputs": [],
   "source": [
    "# normalization"
   ]
  },
  {
   "cell_type": "code",
   "execution_count": 37,
   "id": "cd2a78bb",
   "metadata": {},
   "outputs": [],
   "source": [
    "normalizer = Normalization()\n",
    "normalizer.adapt(x_train) # calculate mean and std for each column and do the standardization processing automatically\n",
    "normalized_x = normalizer(x)"
   ]
  },
  {
   "cell_type": "code",
   "execution_count": 38,
   "id": "ac457478",
   "metadata": {},
   "outputs": [],
   "source": [
    "# model building"
   ]
  },
  {
   "cell_type": "code",
   "execution_count": 39,
   "id": "87d0c70e",
   "metadata": {},
   "outputs": [
    {
     "name": "stdout",
     "output_type": "stream",
     "text": [
      "Model: \"sequential\"\n",
      "_________________________________________________________________\n",
      " Layer (type)                Output Shape              Param #   \n",
      "=================================================================\n",
      " normalization (Normalizatio  (None, 8)                17        \n",
      " n)                                                              \n",
      "                                                                 \n",
      " dense (Dense)               (None, 200)               1800      \n",
      "                                                                 \n",
      " dense_1 (Dense)             (None, 164)               32964     \n",
      "                                                                 \n",
      " dense_2 (Dense)             (None, 100)               16500     \n",
      "                                                                 \n",
      " dense_3 (Dense)             (None, 1)                 101       \n",
      "                                                                 \n",
      "=================================================================\n",
      "Total params: 51,382\n",
      "Trainable params: 51,365\n",
      "Non-trainable params: 17\n",
      "_________________________________________________________________\n"
     ]
    }
   ],
   "source": [
    "model = tf.keras.Sequential([\n",
    "    InputLayer(input_shape = (8,)),\n",
    "    normalizer,\n",
    "    Dense(200,activation = 'relu'),\n",
    "    Dense(164,activation = 'relu'),\n",
    "    Dense(100,activation = 'relu'),\n",
    "    Dense(1)\n",
    "])\n",
    "model.summary()"
   ]
  },
  {
   "cell_type": "code",
   "execution_count": 40,
   "id": "d68d7f6a",
   "metadata": {},
   "outputs": [],
   "source": [
    "model.compile(optimizer = Adam(learning_rate = 0.1),loss = MeanAbsoluteError(),metrics = RootMeanSquaredError())"
   ]
  },
  {
   "cell_type": "code",
   "execution_count": 41,
   "id": "dcb7940f",
   "metadata": {},
   "outputs": [
    {
     "name": "stdout",
     "output_type": "stream",
     "text": [
      "Epoch 1/100\n",
      "17/25 [===================>..........] - ETA: 0s - loss: 182462.0781 - root_mean_squared_error: 230928.3438WARNING:tensorflow:Model was constructed with shape (None, 8) for input KerasTensor(type_spec=TensorSpec(shape=(None, 8), dtype=tf.float32, name='input_1'), name='input_1', description=\"created by layer 'input_1'\"), but it was called on an input with incompatible shape (None, None, 8).\n",
      "25/25 [==============================] - 3s 21ms/step - loss: 145734.5625 - root_mean_squared_error: 196289.0625 - val_loss: 52847.9688 - val_root_mean_squared_error: 65675.3828\n",
      "Epoch 2/100\n",
      "25/25 [==============================] - 0s 6ms/step - loss: 60706.6953 - root_mean_squared_error: 75347.8594 - val_loss: 53102.2383 - val_root_mean_squared_error: 66116.8125\n",
      "Epoch 3/100\n",
      "25/25 [==============================] - 0s 6ms/step - loss: 50160.0781 - root_mean_squared_error: 62525.0078 - val_loss: 47597.0469 - val_root_mean_squared_error: 58370.9297\n",
      "Epoch 4/100\n",
      "25/25 [==============================] - 0s 7ms/step - loss: 49068.7266 - root_mean_squared_error: 61161.2812 - val_loss: 47179.2031 - val_root_mean_squared_error: 58300.2422\n",
      "Epoch 5/100\n",
      "25/25 [==============================] - 0s 7ms/step - loss: 44056.1953 - root_mean_squared_error: 54813.2422 - val_loss: 40941.6406 - val_root_mean_squared_error: 51004.4609\n",
      "Epoch 6/100\n",
      "25/25 [==============================] - 0s 7ms/step - loss: 42834.8438 - root_mean_squared_error: 53349.5312 - val_loss: 37792.4102 - val_root_mean_squared_error: 46636.9727\n",
      "Epoch 7/100\n",
      "25/25 [==============================] - 0s 7ms/step - loss: 40747.4727 - root_mean_squared_error: 51110.0859 - val_loss: 39359.8594 - val_root_mean_squared_error: 48678.4102\n",
      "Epoch 8/100\n",
      "25/25 [==============================] - 0s 7ms/step - loss: 41740.5820 - root_mean_squared_error: 52293.4766 - val_loss: 36305.8164 - val_root_mean_squared_error: 44939.7422\n",
      "Epoch 9/100\n",
      "25/25 [==============================] - 0s 7ms/step - loss: 38413.8711 - root_mean_squared_error: 47971.2891 - val_loss: 36474.2969 - val_root_mean_squared_error: 45809.0430\n",
      "Epoch 10/100\n",
      "25/25 [==============================] - 0s 7ms/step - loss: 39433.4609 - root_mean_squared_error: 49716.5781 - val_loss: 38711.4961 - val_root_mean_squared_error: 48131.5859\n",
      "Epoch 11/100\n",
      "25/25 [==============================] - 0s 8ms/step - loss: 40121.5703 - root_mean_squared_error: 50428.9336 - val_loss: 35033.0117 - val_root_mean_squared_error: 43899.1289\n",
      "Epoch 12/100\n",
      "25/25 [==============================] - 0s 7ms/step - loss: 37869.2305 - root_mean_squared_error: 47747.8281 - val_loss: 34784.0352 - val_root_mean_squared_error: 43481.6523\n",
      "Epoch 13/100\n",
      "25/25 [==============================] - 0s 7ms/step - loss: 39242.4883 - root_mean_squared_error: 49710.8633 - val_loss: 50163.2539 - val_root_mean_squared_error: 61632.8789\n",
      "Epoch 14/100\n",
      "25/25 [==============================] - 0s 7ms/step - loss: 43148.5586 - root_mean_squared_error: 54531.7266 - val_loss: 36863.2344 - val_root_mean_squared_error: 46480.5703\n",
      "Epoch 15/100\n",
      "25/25 [==============================] - 0s 8ms/step - loss: 37211.6172 - root_mean_squared_error: 46665.0352 - val_loss: 40483.5156 - val_root_mean_squared_error: 50663.4062\n",
      "Epoch 16/100\n",
      "25/25 [==============================] - 0s 7ms/step - loss: 42542.4688 - root_mean_squared_error: 53228.4766 - val_loss: 45045.6562 - val_root_mean_squared_error: 55429.9453\n",
      "Epoch 17/100\n",
      "25/25 [==============================] - 0s 7ms/step - loss: 41152.0742 - root_mean_squared_error: 51631.5352 - val_loss: 35000.3906 - val_root_mean_squared_error: 43489.1445\n",
      "Epoch 18/100\n",
      "25/25 [==============================] - 0s 9ms/step - loss: 38661.4180 - root_mean_squared_error: 48490.1172 - val_loss: 40905.7070 - val_root_mean_squared_error: 50824.8047\n",
      "Epoch 19/100\n",
      "25/25 [==============================] - 0s 8ms/step - loss: 39103.9141 - root_mean_squared_error: 49410.9492 - val_loss: 34895.2617 - val_root_mean_squared_error: 43780.9375\n",
      "Epoch 20/100\n",
      "25/25 [==============================] - 0s 7ms/step - loss: 39752.2891 - root_mean_squared_error: 50145.0000 - val_loss: 41557.9844 - val_root_mean_squared_error: 51132.3867\n",
      "Epoch 21/100\n",
      "25/25 [==============================] - 0s 7ms/step - loss: 41235.1406 - root_mean_squared_error: 51640.0781 - val_loss: 43262.4609 - val_root_mean_squared_error: 53689.6992\n",
      "Epoch 22/100\n",
      "25/25 [==============================] - 0s 7ms/step - loss: 41517.9141 - root_mean_squared_error: 51998.1172 - val_loss: 39825.0508 - val_root_mean_squared_error: 49091.6133\n",
      "Epoch 23/100\n",
      "25/25 [==============================] - 0s 7ms/step - loss: 37890.0430 - root_mean_squared_error: 47441.1758 - val_loss: 33942.4805 - val_root_mean_squared_error: 42346.1484\n",
      "Epoch 24/100\n",
      "25/25 [==============================] - 0s 7ms/step - loss: 36019.8008 - root_mean_squared_error: 45369.9336 - val_loss: 38302.0469 - val_root_mean_squared_error: 47801.4453\n",
      "Epoch 25/100\n",
      "25/25 [==============================] - 0s 7ms/step - loss: 37593.2930 - root_mean_squared_error: 47260.2070 - val_loss: 38596.4961 - val_root_mean_squared_error: 47915.1289\n",
      "Epoch 26/100\n",
      "25/25 [==============================] - 0s 7ms/step - loss: 38294.7148 - root_mean_squared_error: 47956.7188 - val_loss: 33904.0312 - val_root_mean_squared_error: 42477.1406\n",
      "Epoch 27/100\n",
      "25/25 [==============================] - 0s 7ms/step - loss: 36712.0078 - root_mean_squared_error: 46173.1523 - val_loss: 37397.3867 - val_root_mean_squared_error: 46680.3828\n",
      "Epoch 28/100\n",
      "25/25 [==============================] - 0s 6ms/step - loss: 37832.1094 - root_mean_squared_error: 47557.4805 - val_loss: 38026.2812 - val_root_mean_squared_error: 47523.1641\n",
      "Epoch 29/100\n",
      "25/25 [==============================] - 0s 7ms/step - loss: 44675.1133 - root_mean_squared_error: 55658.2266 - val_loss: 38472.2031 - val_root_mean_squared_error: 48426.3594\n",
      "Epoch 30/100\n",
      "25/25 [==============================] - 0s 7ms/step - loss: 45906.9883 - root_mean_squared_error: 58039.2266 - val_loss: 37808.8867 - val_root_mean_squared_error: 47398.3398\n",
      "Epoch 31/100\n",
      "25/25 [==============================] - 0s 7ms/step - loss: 38086.8438 - root_mean_squared_error: 48397.5039 - val_loss: 36118.1992 - val_root_mean_squared_error: 45114.7930\n",
      "Epoch 32/100\n",
      "25/25 [==============================] - 0s 9ms/step - loss: 35564.7695 - root_mean_squared_error: 44810.4727 - val_loss: 36351.9414 - val_root_mean_squared_error: 45539.7500\n",
      "Epoch 33/100\n",
      "25/25 [==============================] - 0s 7ms/step - loss: 35781.1484 - root_mean_squared_error: 45068.6602 - val_loss: 39689.4258 - val_root_mean_squared_error: 49143.9492\n",
      "Epoch 34/100\n",
      "25/25 [==============================] - 0s 7ms/step - loss: 39839.3867 - root_mean_squared_error: 50122.1641 - val_loss: 37824.5508 - val_root_mean_squared_error: 47389.6836\n",
      "Epoch 35/100\n",
      "25/25 [==============================] - 0s 7ms/step - loss: 40962.6016 - root_mean_squared_error: 51704.7930 - val_loss: 34551.7461 - val_root_mean_squared_error: 43384.9531\n",
      "Epoch 36/100\n",
      "25/25 [==============================] - 0s 8ms/step - loss: 36648.1055 - root_mean_squared_error: 45920.9727 - val_loss: 44555.8984 - val_root_mean_squared_error: 55290.8555\n",
      "Epoch 37/100\n",
      "25/25 [==============================] - 0s 7ms/step - loss: 43569.8711 - root_mean_squared_error: 54690.3828 - val_loss: 54636.0547 - val_root_mean_squared_error: 65777.0547\n",
      "Epoch 38/100\n",
      "25/25 [==============================] - 0s 8ms/step - loss: 48578.9805 - root_mean_squared_error: 60860.9102 - val_loss: 43019.6289 - val_root_mean_squared_error: 53277.9922\n",
      "Epoch 39/100\n",
      "25/25 [==============================] - 0s 7ms/step - loss: 52967.2109 - root_mean_squared_error: 65042.2969 - val_loss: 45822.5742 - val_root_mean_squared_error: 56975.0938\n",
      "Epoch 40/100\n",
      "25/25 [==============================] - 0s 7ms/step - loss: 36757.6797 - root_mean_squared_error: 45553.4727 - val_loss: 39135.2461 - val_root_mean_squared_error: 48819.6055\n",
      "Epoch 41/100\n",
      "25/25 [==============================] - 0s 7ms/step - loss: 40498.3555 - root_mean_squared_error: 49756.8594 - val_loss: 40288.9609 - val_root_mean_squared_error: 50386.2070\n",
      "Epoch 42/100\n"
     ]
    },
    {
     "name": "stdout",
     "output_type": "stream",
     "text": [
      "25/25 [==============================] - 0s 7ms/step - loss: 38202.1055 - root_mean_squared_error: 48035.7109 - val_loss: 37171.1680 - val_root_mean_squared_error: 46886.6797\n",
      "Epoch 43/100\n",
      "25/25 [==============================] - 0s 7ms/step - loss: 40032.6094 - root_mean_squared_error: 50045.8633 - val_loss: 40278.1758 - val_root_mean_squared_error: 50370.2969\n",
      "Epoch 44/100\n",
      "25/25 [==============================] - 0s 7ms/step - loss: 52714.8984 - root_mean_squared_error: 65674.4375 - val_loss: 56925.7383 - val_root_mean_squared_error: 69086.8984\n",
      "Epoch 45/100\n",
      "25/25 [==============================] - 0s 8ms/step - loss: 37516.6914 - root_mean_squared_error: 47657.9922 - val_loss: 33654.1953 - val_root_mean_squared_error: 42253.4297\n",
      "Epoch 46/100\n",
      "25/25 [==============================] - 0s 7ms/step - loss: 35566.0820 - root_mean_squared_error: 44456.6914 - val_loss: 37226.6992 - val_root_mean_squared_error: 46679.9023\n",
      "Epoch 47/100\n",
      "25/25 [==============================] - 0s 7ms/step - loss: 40002.9219 - root_mean_squared_error: 50223.4883 - val_loss: 39417.5664 - val_root_mean_squared_error: 49124.4766\n",
      "Epoch 48/100\n",
      "25/25 [==============================] - 0s 7ms/step - loss: 48220.3906 - root_mean_squared_error: 59645.2109 - val_loss: 42498.0703 - val_root_mean_squared_error: 52874.7773\n",
      "Epoch 49/100\n",
      "25/25 [==============================] - 0s 7ms/step - loss: 34805.0742 - root_mean_squared_error: 43608.6094 - val_loss: 36474.0234 - val_root_mean_squared_error: 45593.1562\n",
      "Epoch 50/100\n",
      "25/25 [==============================] - 0s 6ms/step - loss: 36637.2305 - root_mean_squared_error: 45687.0156 - val_loss: 39048.9883 - val_root_mean_squared_error: 48965.9141\n",
      "Epoch 51/100\n",
      "25/25 [==============================] - 0s 7ms/step - loss: 40049.4336 - root_mean_squared_error: 50389.7578 - val_loss: 32921.5664 - val_root_mean_squared_error: 41494.2305\n",
      "Epoch 52/100\n",
      "25/25 [==============================] - 0s 8ms/step - loss: 36328.3086 - root_mean_squared_error: 45592.5508 - val_loss: 38536.5156 - val_root_mean_squared_error: 48032.4141\n",
      "Epoch 53/100\n",
      "25/25 [==============================] - 0s 7ms/step - loss: 37971.1953 - root_mean_squared_error: 47498.8203 - val_loss: 33354.9531 - val_root_mean_squared_error: 41719.7148\n",
      "Epoch 54/100\n",
      "25/25 [==============================] - 0s 6ms/step - loss: 41032.3320 - root_mean_squared_error: 51373.9609 - val_loss: 40839.2305 - val_root_mean_squared_error: 51345.7578\n",
      "Epoch 55/100\n",
      "25/25 [==============================] - 0s 7ms/step - loss: 37059.7852 - root_mean_squared_error: 46675.1836 - val_loss: 34148.7969 - val_root_mean_squared_error: 42955.9609\n",
      "Epoch 56/100\n",
      "25/25 [==============================] - 0s 7ms/step - loss: 33573.6992 - root_mean_squared_error: 42269.5195 - val_loss: 37652.8008 - val_root_mean_squared_error: 47206.4219\n",
      "Epoch 57/100\n",
      "25/25 [==============================] - 0s 6ms/step - loss: 35389.4336 - root_mean_squared_error: 44278.6094 - val_loss: 37182.9922 - val_root_mean_squared_error: 46753.6445\n",
      "Epoch 58/100\n",
      "25/25 [==============================] - 0s 7ms/step - loss: 35699.3906 - root_mean_squared_error: 45065.6484 - val_loss: 34749.8398 - val_root_mean_squared_error: 43957.4531\n",
      "Epoch 59/100\n",
      "25/25 [==============================] - 0s 7ms/step - loss: 35399.7305 - root_mean_squared_error: 44980.9102 - val_loss: 36492.5625 - val_root_mean_squared_error: 46392.6641\n",
      "Epoch 60/100\n",
      "25/25 [==============================] - 0s 7ms/step - loss: 36413.9883 - root_mean_squared_error: 46124.6016 - val_loss: 35268.9336 - val_root_mean_squared_error: 44629.1172\n",
      "Epoch 61/100\n",
      "25/25 [==============================] - 0s 7ms/step - loss: 35792.4883 - root_mean_squared_error: 45459.7148 - val_loss: 35315.6133 - val_root_mean_squared_error: 44986.9805\n",
      "Epoch 62/100\n",
      "25/25 [==============================] - 0s 7ms/step - loss: 36471.9102 - root_mean_squared_error: 46332.7305 - val_loss: 34871.6406 - val_root_mean_squared_error: 43936.1914\n",
      "Epoch 63/100\n",
      "25/25 [==============================] - 0s 7ms/step - loss: 37495.3516 - root_mean_squared_error: 47323.4336 - val_loss: 32771.3242 - val_root_mean_squared_error: 41380.9219\n",
      "Epoch 64/100\n",
      "25/25 [==============================] - 0s 7ms/step - loss: 34455.4492 - root_mean_squared_error: 44008.7227 - val_loss: 32944.1367 - val_root_mean_squared_error: 41667.3359\n",
      "Epoch 65/100\n",
      "25/25 [==============================] - 0s 7ms/step - loss: 34282.3320 - root_mean_squared_error: 43915.5625 - val_loss: 33069.9297 - val_root_mean_squared_error: 42164.5625\n",
      "Epoch 66/100\n",
      "25/25 [==============================] - 0s 7ms/step - loss: 38634.0820 - root_mean_squared_error: 49154.8633 - val_loss: 33223.8750 - val_root_mean_squared_error: 42187.0000\n",
      "Epoch 67/100\n",
      "25/25 [==============================] - 0s 7ms/step - loss: 39708.5898 - root_mean_squared_error: 50261.9180 - val_loss: 37682.6797 - val_root_mean_squared_error: 47540.7227\n",
      "Epoch 68/100\n",
      "25/25 [==============================] - 0s 7ms/step - loss: 34166.6172 - root_mean_squared_error: 43467.6328 - val_loss: 31367.9102 - val_root_mean_squared_error: 39866.9727\n",
      "Epoch 69/100\n",
      "25/25 [==============================] - 0s 7ms/step - loss: 34124.1289 - root_mean_squared_error: 43272.1211 - val_loss: 32509.7266 - val_root_mean_squared_error: 41543.7852\n",
      "Epoch 70/100\n",
      "25/25 [==============================] - 0s 7ms/step - loss: 38261.6602 - root_mean_squared_error: 48977.1172 - val_loss: 50114.8594 - val_root_mean_squared_error: 63019.8984\n",
      "Epoch 71/100\n",
      "25/25 [==============================] - 0s 8ms/step - loss: 36844.4805 - root_mean_squared_error: 47115.1680 - val_loss: 30239.3203 - val_root_mean_squared_error: 38536.6836\n",
      "Epoch 72/100\n",
      "25/25 [==============================] - 0s 6ms/step - loss: 31652.7227 - root_mean_squared_error: 39640.2109 - val_loss: 29264.0918 - val_root_mean_squared_error: 37588.9102\n",
      "Epoch 73/100\n",
      "25/25 [==============================] - 0s 7ms/step - loss: 32160.2773 - root_mean_squared_error: 40612.4922 - val_loss: 33303.8086 - val_root_mean_squared_error: 42030.0664\n",
      "Epoch 74/100\n",
      "25/25 [==============================] - 0s 6ms/step - loss: 34759.7656 - root_mean_squared_error: 43977.4023 - val_loss: 33727.1367 - val_root_mean_squared_error: 42758.3750\n",
      "Epoch 75/100\n",
      "25/25 [==============================] - 0s 7ms/step - loss: 34713.0586 - root_mean_squared_error: 44211.3945 - val_loss: 32700.0742 - val_root_mean_squared_error: 41437.8438\n",
      "Epoch 76/100\n",
      "25/25 [==============================] - 0s 7ms/step - loss: 39452.9844 - root_mean_squared_error: 50242.0508 - val_loss: 45380.4492 - val_root_mean_squared_error: 55195.6484\n",
      "Epoch 77/100\n",
      "25/25 [==============================] - 0s 8ms/step - loss: 34181.8438 - root_mean_squared_error: 43704.6094 - val_loss: 29357.7520 - val_root_mean_squared_error: 37475.7422\n",
      "Epoch 78/100\n",
      "25/25 [==============================] - 0s 6ms/step - loss: 31753.6621 - root_mean_squared_error: 40322.1523 - val_loss: 30994.6758 - val_root_mean_squared_error: 39294.0234\n",
      "Epoch 79/100\n",
      "25/25 [==============================] - 0s 7ms/step - loss: 32117.6797 - root_mean_squared_error: 41477.9102 - val_loss: 29878.4453 - val_root_mean_squared_error: 38170.4805\n",
      "Epoch 80/100\n",
      "25/25 [==============================] - 0s 8ms/step - loss: 32318.4609 - root_mean_squared_error: 41767.6758 - val_loss: 31895.9766 - val_root_mean_squared_error: 40597.2852\n",
      "Epoch 81/100\n",
      "25/25 [==============================] - 0s 7ms/step - loss: 33849.5664 - root_mean_squared_error: 43700.0664 - val_loss: 31881.9941 - val_root_mean_squared_error: 40971.0625\n",
      "Epoch 82/100\n",
      "25/25 [==============================] - 0s 7ms/step - loss: 31304.6895 - root_mean_squared_error: 40151.9375 - val_loss: 32920.1016 - val_root_mean_squared_error: 41924.4883\n",
      "Epoch 83/100\n",
      "25/25 [==============================] - 0s 7ms/step - loss: 34022.1836 - root_mean_squared_error: 43567.4492 - val_loss: 30493.6992 - val_root_mean_squared_error: 38977.1172\n",
      "Epoch 84/100\n",
      "25/25 [==============================] - 0s 6ms/step - loss: 32725.9004 - root_mean_squared_error: 41899.8594 - val_loss: 30540.4316 - val_root_mean_squared_error: 39522.7734\n",
      "Epoch 85/100\n",
      "25/25 [==============================] - 0s 7ms/step - loss: 35488.1406 - root_mean_squared_error: 45095.1914 - val_loss: 33465.5117 - val_root_mean_squared_error: 42899.1797\n"
     ]
    },
    {
     "name": "stdout",
     "output_type": "stream",
     "text": [
      "Epoch 86/100\n",
      "25/25 [==============================] - 0s 6ms/step - loss: 32767.7773 - root_mean_squared_error: 41864.5000 - val_loss: 33185.9531 - val_root_mean_squared_error: 42725.4531\n",
      "Epoch 87/100\n",
      "25/25 [==============================] - 0s 7ms/step - loss: 33282.6875 - root_mean_squared_error: 42738.4102 - val_loss: 32322.6797 - val_root_mean_squared_error: 41253.5469\n",
      "Epoch 88/100\n",
      "25/25 [==============================] - 0s 6ms/step - loss: 30348.6445 - root_mean_squared_error: 39674.9336 - val_loss: 29875.6602 - val_root_mean_squared_error: 38539.3125\n",
      "Epoch 89/100\n",
      "25/25 [==============================] - 0s 8ms/step - loss: 30390.4258 - root_mean_squared_error: 39799.6211 - val_loss: 37613.3047 - val_root_mean_squared_error: 47733.3516\n",
      "Epoch 90/100\n",
      "25/25 [==============================] - 0s 7ms/step - loss: 31102.5371 - root_mean_squared_error: 40604.9180 - val_loss: 30365.3281 - val_root_mean_squared_error: 38872.1523\n",
      "Epoch 91/100\n",
      "25/25 [==============================] - 0s 7ms/step - loss: 29412.8418 - root_mean_squared_error: 38407.0469 - val_loss: 26904.4727 - val_root_mean_squared_error: 35067.8672\n",
      "Epoch 92/100\n",
      "25/25 [==============================] - 0s 7ms/step - loss: 29175.3184 - root_mean_squared_error: 37698.3672 - val_loss: 27579.5898 - val_root_mean_squared_error: 36287.0703\n",
      "Epoch 93/100\n",
      "25/25 [==============================] - 0s 7ms/step - loss: 27560.6367 - root_mean_squared_error: 36066.7266 - val_loss: 28599.9258 - val_root_mean_squared_error: 37172.2891\n",
      "Epoch 94/100\n",
      "25/25 [==============================] - 0s 6ms/step - loss: 29733.2441 - root_mean_squared_error: 38859.1484 - val_loss: 29303.1191 - val_root_mean_squared_error: 37871.8203\n",
      "Epoch 95/100\n",
      "25/25 [==============================] - 0s 7ms/step - loss: 30554.6348 - root_mean_squared_error: 39664.7188 - val_loss: 30662.2246 - val_root_mean_squared_error: 39650.4180\n",
      "Epoch 96/100\n",
      "25/25 [==============================] - 0s 7ms/step - loss: 35264.5469 - root_mean_squared_error: 44777.1914 - val_loss: 27631.9727 - val_root_mean_squared_error: 36110.4844\n",
      "Epoch 97/100\n",
      "25/25 [==============================] - 0s 7ms/step - loss: 36770.2734 - root_mean_squared_error: 47294.0195 - val_loss: 42353.3047 - val_root_mean_squared_error: 53548.8008\n",
      "Epoch 98/100\n",
      "25/25 [==============================] - 0s 7ms/step - loss: 35387.0195 - root_mean_squared_error: 44897.7578 - val_loss: 43194.3711 - val_root_mean_squared_error: 54599.2070\n",
      "Epoch 99/100\n",
      "25/25 [==============================] - 0s 7ms/step - loss: 34227.5156 - root_mean_squared_error: 44371.6953 - val_loss: 26719.1621 - val_root_mean_squared_error: 35187.6250\n",
      "Epoch 100/100\n",
      "25/25 [==============================] - 0s 7ms/step - loss: 29446.5547 - root_mean_squared_error: 38559.8594 - val_loss: 28771.2246 - val_root_mean_squared_error: 37441.5039\n"
     ]
    }
   ],
   "source": [
    "history = model.fit(train_dataset,validation_data = val_dataset ,epochs = 100, verbose = 1)"
   ]
  },
  {
   "cell_type": "code",
   "execution_count": 42,
   "id": "84165f4b",
   "metadata": {},
   "outputs": [
    {
     "data": {
      "text/plain": [
       "dict_keys(['loss', 'root_mean_squared_error', 'val_loss', 'val_root_mean_squared_error'])"
      ]
     },
     "execution_count": 42,
     "metadata": {},
     "output_type": "execute_result"
    }
   ],
   "source": [
    "history.history.keys()"
   ]
  },
  {
   "cell_type": "code",
   "execution_count": 43,
   "id": "b89d1171",
   "metadata": {},
   "outputs": [
    {
     "data": {
      "image/png": "[encoded data removed]",
      "text/plain": [
       "<Figure size 640x480 with 1 Axes>"
      ]
     },
     "metadata": {},
     "output_type": "display_data"
    }
   ],
   "source": [
    "plt.plot(history.history['loss'])\n",
    "plt.plot(history.history['val_loss'])\n",
    "plt.title('model training vs validation loss')\n",
    "plt.ylabel('loss')\n",
    "plt.xlabel('epoch')\n",
    "plt.legend(['train','val_loss'])\n",
    "plt.show()"
   ]
  },
  {
   "cell_type": "code",
   "execution_count": 44,
   "id": "64e01cba",
   "metadata": {},
   "outputs": [
    {
     "data": {
      "image/png": "[encoded data removed]",
      "text/plain": [
       "<Figure size 640x480 with 1 Axes>"
      ]
     },
     "metadata": {},
     "output_type": "display_data"
    }
   ],
   "source": [
    "plt.plot(history.history['root_mean_squared_error'])\n",
    "plt.plot(history.history['val_root_mean_squared_error'])\n",
    "plt.title('model error evaluation')\n",
    "plt.ylabel('loss')\n",
    "plt.xlabel('epoch')\n",
    "plt.legend(['rmse','val_rmse'])\n",
    "plt.show()"
   ]
  },
  {
   "cell_type": "code",
   "execution_count": 45,
   "id": "bd26df5e",
   "metadata": {},
   "outputs": [],
   "source": [
    "# normally validation loss is always greater than training loss"
   ]
  },
  {
   "cell_type": "code",
   "execution_count": 46,
   "id": "3f6bf66b",
   "metadata": {},
   "outputs": [
    {
     "name": "stdout",
     "output_type": "stream",
     "text": [
      "1/1 [==============================] - 0s 60ms/step - loss: 28771.2266 - root_mean_squared_error: 37441.5039\n"
     ]
    },
    {
     "data": {
      "text/plain": [
       "[28771.2265625, 37441.50390625]"
      ]
     },
     "execution_count": 46,
     "metadata": {},
     "output_type": "execute_result"
    }
   ],
   "source": [
    "model.evaluate(test_dataset)"
   ]
  },
  {
   "cell_type": "code",
   "execution_count": 47,
   "id": "54ba8297",
   "metadata": {},
   "outputs": [
    {
     "data": {
      "text/plain": [
       "TensorShape([100, 8])"
      ]
     },
     "execution_count": 47,
     "metadata": {},
     "output_type": "execute_result"
    }
   ],
   "source": [
    "x_test.shape"
   ]
  },
  {
   "cell_type": "code",
   "execution_count": 48,
   "id": "119f4eb2",
   "metadata": {},
   "outputs": [
    {
     "data": {
      "text/plain": [
       "TensorShape([8])"
      ]
     },
     "execution_count": 48,
     "metadata": {},
     "output_type": "execute_result"
    }
   ],
   "source": [
    "x_test[0].shape"
   ]
  },
  {
   "cell_type": "code",
   "execution_count": 49,
   "id": "83a9571e",
   "metadata": {},
   "outputs": [
    {
     "data": {
      "text/plain": [
       "TensorShape([1, 8])"
      ]
     },
     "execution_count": 49,
     "metadata": {},
     "output_type": "execute_result"
    }
   ],
   "source": [
    "tf.expand_dims(x_test[0],axis = 0).shape"
   ]
  },
  {
   "cell_type": "code",
   "execution_count": 50,
   "id": "7822458b",
   "metadata": {},
   "outputs": [
    {
     "name": "stdout",
     "output_type": "stream",
     "text": [
      "1/1 [==============================] - 0s 156ms/step\n"
     ]
    },
    {
     "data": {
      "text/plain": [
       "array([[151116.23]], dtype=float32)"
      ]
     },
     "execution_count": 50,
     "metadata": {},
     "output_type": "execute_result"
    }
   ],
   "source": [
    "model.predict(tf.expand_dims(x_test[0],axis = 0))"
   ]
  },
  {
   "cell_type": "code",
   "execution_count": 51,
   "id": "11e673af",
   "metadata": {},
   "outputs": [],
   "source": [
    "y_true = list(y_test.numpy())"
   ]
  },
  {
   "cell_type": "code",
   "execution_count": 52,
   "id": "7ad56cc6",
   "metadata": {},
   "outputs": [
    {
     "name": "stdout",
     "output_type": "stream",
     "text": [
      "4/4 [==============================] - 0s 4ms/step\n"
     ]
    }
   ],
   "source": [
    "y_predict = list(model.predict(x_test)[:,0])"
   ]
  },
  {
   "cell_type": "code",
   "execution_count": 53,
   "id": "708047e0",
   "metadata": {},
   "outputs": [
    {
     "data": {
      "image/png": "[encoded data removed]",
      "text/plain": [
       "<Figure size 4000x2000 with 1 Axes>"
      ]
     },
     "metadata": {},
     "output_type": "display_data"
    }
   ],
   "source": [
    "ind = np.arange(100)\n",
    "plt.figure(figsize = (40,20))\n",
    "\n",
    "width = 0.5\n",
    "\n",
    "plt.bar(ind,y_predict,width,label = 'Predicted Car Price')\n",
    "plt.bar(ind+width,y_true,width,label = 'Actual Car Price')\n",
    "\n",
    "plt.xlabel('Actual vs Predicted Prices')\n",
    "plt.ylabel('Car Prices')\n",
    "\n",
    "plt.show()"
   ]
  },
  {
   "cell_type": "code",
   "execution_count": null,
   "id": "82520dfa",
   "metadata": {},
   "outputs": [],
   "source": []
  },
  {
   "cell_type": "code",
   "execution_count": null,
   "id": "8c1f125e",
   "metadata": {},
   "outputs": [],
   "source": []
  }
 ],
 "metadata": {
  "kernelspec": {
   "display_name": "Python 3.9 (tensorflow)",
   "language": "python",
   "name": "tensorflow"
  },
  "language_info": {
   "codemirror_mode": {
    "name": "ipython",
    "version": 3
   },
   "file_extension": ".py",
   "mimetype": "text/x-python",
   "name": "python",
   "nbconvert_exporter": "python",
   "pygments_lexer": "ipython3",
   "version": "3.9.18"
  }
 },
 "nbformat": 4,
 "nbformat_minor": 5
}
